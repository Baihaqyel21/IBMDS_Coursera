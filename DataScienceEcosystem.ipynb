{
 "cells": [
  {
   "cell_type": "markdown",
   "id": "b9012b00-fd80-4d24-8b98-93b52e1b2337",
   "metadata": {},
   "source": [
    "# Data Science Tools and Ecosystem"
   ]
  },
  {
   "cell_type": "markdown",
   "id": "84c2057a-32d4-4fb6-96b2-10674cd84609",
   "metadata": {},
   "source": [
    "## In this notebook, Data Science Tools and Ecosystem are sumarized."
   ]
  },
  {
   "cell_type": "markdown",
   "id": "86223f27-257f-4ee7-8b93-2c3d9c153a20",
   "metadata": {},
   "source": [
    "**Objectives:**\n",
    "* Popular languages for Data Science\n",
    "* Commonly used libraries used in Data Science\n",
    "* Open source tools used in Data Science\n",
    "* Evaluating arithmetic expressions with Phyton\n",
    "* Converting minutes to hours with Phyton"
   ]
  },
  {
   "cell_type": "markdown",
   "id": "29dffb58-c4bb-429a-b025-b9670e02f33d",
   "metadata": {},
   "source": [
    "### Some of the popular languages that Data Scientists use are:\n",
    "1. Python\n",
    "2. SQL\n",
    "3. R\n",
    "4. Julia"
   ]
  },
  {
   "cell_type": "markdown",
   "id": "74d73366-7c20-435d-b224-7706242a28aa",
   "metadata": {},
   "source": [
    "### Some of the commonly used libraries used by Data Scientists include:\n",
    "1. Pandas\n",
    "2. Numpy\n",
    "3. Matplotlib\n",
    "4. Seaborn\n",
    "5. Scikit-learn\n",
    "6. Keras\n",
    "7. TensorFlow"
   ]
  },
  {
   "cell_type": "markdown",
   "id": "1c471bff-54d4-4c98-969f-c96d5d46d2fd",
   "metadata": {},
   "source": [
    "| Data Science Tools |\n",
    "| -------------------|\n",
    "| MySQL |\n",
    "| Apache Airflow |\n",
    "| PixieDust |"
   ]
  },
  {
   "cell_type": "markdown",
   "id": "a1faaec6-b448-4b0f-b535-e78fe5f91450",
   "metadata": {},
   "source": [
    "### Below are a few examples of evaluating arithmetic expressions in Phyton"
   ]
  },
  {
   "cell_type": "code",
   "execution_count": 11,
   "id": "e9d2e767-922d-4095-87f6-ba3e7ee6bca8",
   "metadata": {},
   "outputs": [
    {
     "data": {
      "text/plain": [
       "17"
      ]
     },
     "execution_count": 11,
     "metadata": {},
     "output_type": "execute_result"
    }
   ],
   "source": [
    "# This is a simple arithmetic expression to multiply then add integers\n",
    "\n",
    "(3*4)+5"
   ]
  },
  {
   "cell_type": "code",
   "execution_count": 10,
   "id": "c99827fa-a9e7-416e-829c-c6cfcff4f009",
   "metadata": {},
   "outputs": [
    {
     "name": "stdout",
     "output_type": "stream",
     "text": [
      "3.3333333333333335 hours\n"
     ]
    }
   ],
   "source": [
    "# This will convert 200 minutes to hours by diving by 60\n",
    "\n",
    "minute = 200\n",
    "hour = 60\n",
    "convert = minute/hour\n",
    "print(str(convert),\"hours\")"
   ]
  },
  {
   "cell_type": "markdown",
   "id": "0f5c4cbb-efd6-4613-a901-8197308e48d4",
   "metadata": {},
   "source": [
    "## Author\n",
    "Shidqy Baihaqy El Muhammady"
   ]
  }
 ],
 "metadata": {
  "kernelspec": {
   "display_name": "Python 3 (ipykernel)",
   "language": "python",
   "name": "python3"
  },
  "language_info": {
   "codemirror_mode": {
    "name": "ipython",
    "version": 3
   },
   "file_extension": ".py",
   "mimetype": "text/x-python",
   "name": "python",
   "nbconvert_exporter": "python",
   "pygments_lexer": "ipython3",
   "version": "3.12.7"
  }
 },
 "nbformat": 4,
 "nbformat_minor": 5
}
